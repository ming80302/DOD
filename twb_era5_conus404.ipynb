{
 "cells": [
  {
   "cell_type": "markdown",
   "id": "02569307-3867-4549-a72f-1a3edeb0c624",
   "metadata": {},
   "source": [
    "#### Compare ERA5 and CONUS404 TWB.\n",
    "The CONUS404 data are at https://rda.ucar.edu/datasets/ds559.0/\n",
    " \n",
    " https://www.youtube.com/watch?v=7RlkV3022ys\n",
    " https://github.com/zxdawn/GEOSChem-python-tutorial/blob/master/Chapter04_regridding_WRFChem.ipynb\n",
    " https://github.com/geoschem/GEOSChem-python-tutorial\n",
    " \n",
    " a) remapping using bilinear interpolation to a gaussian (128x64) grid \n",
    " cdo remapbil,n32 wrfout_d01_1999-01-01-01_00:00:00.nc out.nc\n",
    " b) Here's an example remapping using nearest neighbor mapping to one latitude,longitude point:\n",
    "\n",
    "cdo remapnn,lon=-107.0_lat=34.0 wrfout_d01_1999-01-01-01_00:00:00.nc out.nc"
   ]
  },
  {
   "cell_type": "markdown",
   "id": "900e961e-6b3b-429f-9abf-4a6b7ecc22aa",
   "metadata": {},
   "source": [
    "#### 1) extract hourly timeseries of ERA5 and WRFCONUS at Yuma AZ\n",
    " - 1.1) get lat-lon of Yuma, AZ usging geolocator\n",
    " - 1.2) get index (i, j) of Yuma in WRF CONUS404 (unstructured RCM grid)\n",
    " - 1.3) extract hourly data time series from unstructured grid WRF CONUS404\n",
    " - 1.4) extract hourly data time series of ERA5 over Yuma, AZ (structual grid) \n",
    " \n",
    "#### 2) mash plot days > 90 percentile."
   ]
  },
  {
   "cell_type": "code",
   "execution_count": 21,
   "id": "cd8c11a3-b3aa-4dca-bf34-0b114a975953",
   "metadata": {},
   "outputs": [],
   "source": [
    "import os.path\n",
    "import xarray as xr\n",
    "import numpy as np\n",
    "import pandas as pd\n",
    "import matplotlib.pyplot as plt \n",
    "import datetime\n",
    "import geopy\n",
    "import scipy\n",
    "from scipy.interpolate import griddata\n",
    "from geopy.geocoders import Nominatim"
   ]
  },
  {
   "cell_type": "code",
   "execution_count": 22,
   "id": "7e683ac2-a4de-4e6d-9607-e02ed7ff17ca",
   "metadata": {},
   "outputs": [],
   "source": [
    "def find_indices(points,lon,lat,tree=None):\n",
    "    if tree is None:\n",
    "        lon,lat = lon.T,lat.T\n",
    "        lonlat = np.column_stack((lon.ravel(),lat.ravel()))\n",
    "        tree = scipy.spatial.cKDTree(lonlat)\n",
    "    dist,idx = tree.query(points,k=1)\n",
    "    ind = np.column_stack(np.unravel_index(idx,lon.shape))\n",
    "    return [(i,j) for i,j in ind]\n",
    "\n",
    "def cal_p90_df(flnm):\n",
    "    '''\n",
    "    flnm: input hourly time series file name\n",
    "    return P90 of daily maximum and daily maximum timeseries   \n",
    "    '''\n",
    "    print(flnm)\n",
    "    df = pd.read_csv(flnm, index_col = 0)\n",
    "    \n",
    "    # Create DatetimeIndex by DataFrame.set_index\n",
    "    # in order to use 'resample'\n",
    "    df.index = pd.to_datetime(df.index, format='%Y-%m-%d %H')\n",
    "        \n",
    "    # resample hourly data to daily data\n",
    "    df_dmax = df.resample('D').max()\n",
    "    \n",
    "    # calculate quantile over requested axis\n",
    "    p90_tmax = df_dmax.quantile(.9, axis = 0)\n",
    "     \n",
    "    print('--')\n",
    "    return p90_tmax, df_dmax\n",
    "\n",
    "def mask_perc(df, column, perc):\n",
    "    '''\n",
    "    mask values less that perc\n",
    "    df: dataFrame\n",
    "    column: the column to mask\n",
    "    perc:  percentile value\n",
    "    '''\n",
    "    itt = df.index[df[column] < perc]\n",
    "    # Make a copy of this object’s indices and data.\n",
    "    # deep=True (default)\n",
    "    ts_series = df[column].copy()\n",
    "    ts_series[itt] = np.nan\n",
    "    return ts_series"
   ]
  },
  {
   "cell_type": "code",
   "execution_count": 24,
   "id": "e1751745-e0a0-4660-8125-fba8e86fb493",
   "metadata": {},
   "outputs": [
    {
     "name": "stdout",
     "output_type": "stream",
     "text": [
      "n_hours: 359424  between 1980-01-01 00:00:00 and 2020-12-31 23:00:00\n"
     ]
    }
   ],
   "source": [
    "dir_c = '/glade/campaign/mmm/c3we/prein/CONUS404/data/MonthlyData/TWB/'\n",
    "dir_e = '/glade/campaign/mmm/c3we/wetbulb/'\n",
    "dir_o = '/glade/campaign/mmm/c3we/mingge/DOD/'\n",
    "\n",
    "year_s = 1980\n",
    "year_e = 2020\n",
    " \n",
    "n_year = year_e - year_s + 1\n",
    "n_366 = 366\n",
    "\n",
    "StartDay = datetime.datetime(year_s, 1, 1, 0)\n",
    "StopDay  = datetime.datetime(year_e, 12, 31, 23)\n",
    "TimeHH   = pd.date_range(StartDay, end=StopDay, freq='1h')\n",
    "print('n_hours:', len(TimeHH), ' between', StartDay, 'and', StopDay)"
   ]
  },
  {
   "cell_type": "markdown",
   "id": "a93fbcf2-53b2-4623-a90d-cc4bc18159e2",
   "metadata": {},
   "source": [
    "#### 1.1) get lat-lon of Yuma, AZ usging geolocator"
   ]
  },
  {
   "cell_type": "code",
   "execution_count": 25,
   "id": "8c3a9415-8792-4329-b727-82694ae3384d",
   "metadata": {},
   "outputs": [
    {
     "name": "stdout",
     "output_type": "stream",
     "text": [
      "[[-114.47603157249804, 32.665135]]\n"
     ]
    }
   ],
   "source": [
    "# Create a geolocator object using the Openstreet Nominatim API. \n",
    "# It’s a good idea to increase the default timeout setting from 1s to 10s \n",
    "# so that you don’t get a TimedOut exception. \n",
    "# You’ll also need to enter a name (any name) for the ‘user_agent’ attribute.\n",
    "geolocator = Nominatim(timeout=10, user_agent = \"myGeolocator\")\n",
    "#loc = geolocator.geocode('Yuma' + ','+ 'US')\n",
    "loc = geolocator.geocode('Yuma, US')\n",
    "lat_pt = loc.latitude\n",
    "lon_pt = loc.longitude\n",
    "\n",
    "points = ([[lon_pt, lat_pt]])\n",
    "\n",
    "#points = np.array([lon_pt, lat_pt]).transpose() \n",
    "print(points)"
   ]
  },
  {
   "cell_type": "markdown",
   "id": "e9f15061-216c-4156-bf43-9f6d5bb29654",
   "metadata": {},
   "source": [
    "#### 1.2) get index (i, j) of Yuma in WRF CONUS404 (unstructured RCM grid)"
   ]
  },
  {
   "cell_type": "code",
   "execution_count": 26,
   "id": "514b8f83-c3d0-4cff-a335-54a41b89683e",
   "metadata": {},
   "outputs": [
    {
     "name": "stdout",
     "output_type": "stream",
     "text": [
      "/glade/campaign/mmm/c3we/prein/CONUS404/data/MonthlyData/TWB/TWB_202012_CONUS404.nc\n",
      "model Lon-Lat -114.47633 32.65857 vs actual lon_lat [[-114.47603157249804, 32.665135]]\n"
     ]
    }
   ],
   "source": [
    "# a test\n",
    "flnm_c =  dir_c + 'TWB_202012_CONUS404.nc' \n",
    "print(flnm_c)\n",
    "\n",
    "with  xr.open_dataset(flnm_c) as ds:\n",
    "    Lat = ds.lat.to_numpy()\n",
    "    Lon = ds.lon.to_numpy()    \n",
    "    ind = find_indices(points, Lon, Lat,tree=None)[0]\n",
    "    print('model Lon-Lat', Lon[ind[1],ind[0]], Lat[ind[1],ind[0]], 'vs actual lon_lat', points)"
   ]
  },
  {
   "cell_type": "markdown",
   "id": "6494f3c8-be68-44db-b349-9079ac1079fa",
   "metadata": {},
   "source": [
    "#### 1.3) extract hourly data time series from  unstructured grid WRF CONUS404 "
   ]
  },
  {
   "cell_type": "code",
   "execution_count": 27,
   "id": "84ff7120-8008-4ca1-a7b3-91e26134d69b",
   "metadata": {},
   "outputs": [
    {
     "name": "stdout",
     "output_type": "stream",
     "text": [
      "/glade/campaign/mmm/c3we/mingge/DOD/twb_yuma_era.csv exist\n"
     ]
    }
   ],
   "source": [
    "flnm_ow = dir_o + 'twb_yuma_conus404.csv'\n",
    "\n",
    "if os.path.exists(flnm_o): \n",
    "    print(flnm_o, 'exist')\n",
    "    df_w = pd.read_csv(flnm_o, index_col = 0)    \n",
    "else:       \n",
    "    for year in range(year_s, year_e + 1):\n",
    "        for month in range(1,12+1):\n",
    "            flnm = dir_c + 'TWB_' + str(year) + str(month).zfill(2) + '_CONUS404.nc' \n",
    "        \n",
    "            with xr.open_dataset(flnm) as ds:\n",
    "                print('FILE=', flnm)                \n",
    "                var = ds['TWB'][:, ind[1],ind[0] ]\n",
    "            if year == year_s and month == 1:\n",
    "                var_new = var\n",
    "            else:\n",
    "                var_new = np.append(var_new, var, axis=0)\n",
    "            \n",
    "    df = pd.DataFrame(var_new, index = TimeHH,  columns = ['Yuma'])\n",
    " \n",
    "    print(flnm_o)\n",
    "    df.to_csv(flnm_o)  \n",
    "    print('SUCCEED')  \n",
    "    \n",
    "#df_w.plot(title='Yuma')"
   ]
  },
  {
   "cell_type": "markdown",
   "id": "24c757a6-f6d7-4322-9fd0-1df1e7700253",
   "metadata": {},
   "source": [
    "#### 1.4) extract hourly data time series of ERA5 over Yuma, AZ (structual grid) "
   ]
  },
  {
   "cell_type": "code",
   "execution_count": 28,
   "id": "8442495a-7ec4-479b-a364-22f900f1c9e0",
   "metadata": {},
   "outputs": [
    {
     "name": "stdout",
     "output_type": "stream",
     "text": [
      "/glade/campaign/mmm/c3we/mingge/DOD/twb_yuma_era.csv\n",
      "/glade/campaign/mmm/c3we/mingge/DOD/twb_yuma_era.csv exist\n"
     ]
    }
   ],
   "source": [
    "flnm_oe = dir_o + 'twb_yuma_era.csv'\n",
    "print(flnm_o)\n",
    "if os.path.exists(flnm_o): \n",
    "    print(flnm_o, 'exist')\n",
    "    df_e = pd.read_csv(flnm_o, index_col = 0)  \n",
    "else:       \n",
    "    for year in range(year_s, year_e + 1):\n",
    "        for month in range(1,12+1):\n",
    "            flnm_e = dir_e + 'TWB_' + str(year) + str(month).zfill(2) + '.nc' \n",
    "            with xr.open_dataset(flnm_e) as ds:\n",
    "                print('FILE=', flnm_e)                \n",
    "                var = ds['TWB'].sel(latitude=lat_pt, longitude=lon_pt+360, method=\"nearest\").values\n",
    "            if year == year_s and month == 1:\n",
    "                var_new = var\n",
    "            else:\n",
    "                var_new = np.append(var_new, var, axis=0)\n",
    "            \n",
    "    df = pd.DataFrame(var_new, index = TimeHH,  columns = ['Yuma'])\n",
    " \n",
    "    print(flnm_o)\n",
    "    df.to_csv(flnm_o)  \n",
    "    print('SUCCEED')  \n",
    "\n",
    "#df_e.plot(title='Yuma')"
   ]
  },
  {
   "cell_type": "markdown",
   "id": "fbfde916-3d74-4e1c-ae79-4b326c1dd9e9",
   "metadata": {},
   "source": [
    "#### 2) Calculate annual # days > 90 percentile."
   ]
  },
  {
   "cell_type": "code",
   "execution_count": 12,
   "id": "662f604a-7f2c-4d48-b78a-f1a6ed0fdefc",
   "metadata": {},
   "outputs": [],
   "source": [
    "n_366 = 366\n",
    "arr_2d = np.empty((n_year, n_366))\n",
    "arr_2d[:] = np.nan\n",
    "\n",
    "# the outputs of meshgrid are of shape (N, M) for ‘xy’ indexing and (M, N) for ‘ij’ indexing.\n",
    "# default 'xy' indexing\n",
    "day_2d, year_2d = np.meshgrid(range(1, n_366+1), range(year_s, year_e+1))"
   ]
  },
  {
   "cell_type": "code",
   "execution_count": 43,
   "id": "e3b55078-1736-459f-a485-da3845f9c2ea",
   "metadata": {},
   "outputs": [
    {
     "name": "stdout",
     "output_type": "stream",
     "text": [
      "/glade/campaign/mmm/c3we/mingge/DOD/twb_yuma_conus404.csv\n",
      "--\n",
      "/glade/campaign/mmm/c3we/mingge/DOD/twb_yuma_era.csv\n",
      "--\n"
     ]
    },
    {
     "data": {
      "image/png": "[encoded data removed]",
      "text/plain": [
       "<Figure size 1000x500 with 2 Axes>"
      ]
     },
     "metadata": {},
     "output_type": "display_data"
    },
    {
     "data": {
      "image/png": "[encoded data removed]",
      "text/plain": [
       "<Figure size 1000x500 with 2 Axes>"
      ]
     },
     "metadata": {},
     "output_type": "display_data"
    }
   ],
   "source": [
    "flnm_1d = [flnm_ow, flnm_oe]\n",
    "title_1d = ['CONUS404', 'ERA5']\n",
    "\n",
    "nn = 0\n",
    "for flnm in flnm_1d:\n",
    "    fig, ax = plt.subplots(1,1,figsize=(10, 5)) \n",
    "    p90_tmax, df_dmax = cal_p90_df(flnm)\n",
    "    \n",
    "    data = {'year': pd.DatetimeIndex(df_dmax.index).year,\n",
    "            'Yuma': mask_perc(df_dmax, 'Yuma', p90_tmax['Yuma'])}\n",
    "    \n",
    "    df_new = pd.DataFrame(data)\n",
    "    \n",
    "    for year in range(year_s, year_e+1):\n",
    "            iTT = np.isin(df_new.year, year)\n",
    "            # by adding [0] in id_iTT, convert tuple -> numpy.ndarray\n",
    "            id_iTT = np.where(iTT == True)[0] \n",
    "         \n",
    "            arr_2d[year-year_s, :len(id_iTT)] = df_new['Yuma'][id_iTT]       \n",
    "    if nn == 0 :\n",
    "        arr_2d = arr_2d - 273.15\n",
    "    # the pcolormesh() method to create a pseudocolor plot with a non-regular rectangular grid.\n",
    "    # use the plt.cm.get_cmap() for discret color bars\n",
    "    im=ax.pcolormesh(day_2d, year_2d, arr_2d, vmin = 24, vmax = 30, cmap=plt.cm.get_cmap('Reds', 6)) \n",
    "    cbar = fig.colorbar(im, ax=ax)\n",
    "    ax.set_title(title_1d[nn] + ' Tmax > 90 percentile', fontweight =\"bold\")\n",
    "    nn = nn + 1    \n",
    "    plt.tight_layout()\n",
    "     "
   ]
  },
  {
   "cell_type": "code",
   "execution_count": null,
   "id": "63e28619-85d9-46ed-bae2-d1d319d2f5a3",
   "metadata": {},
   "outputs": [],
   "source": []
  }
 ],
 "metadata": {
  "kernelspec": {
   "display_name": "Python [conda env:miniconda3-casper_2020]",
   "language": "python",
   "name": "conda-env-miniconda3-casper_2020-py"
  },
  "language_info": {
   "codemirror_mode": {
    "name": "ipython",
    "version": 3
   },
   "file_extension": ".py",
   "mimetype": "text/x-python",
   "name": "python",
   "nbconvert_exporter": "python",
   "pygments_lexer": "ipython3",
   "version": "3.9.6"
  }
 },
 "nbformat": 4,
 "nbformat_minor": 5
}
